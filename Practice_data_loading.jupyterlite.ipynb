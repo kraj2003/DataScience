{
 "cells": [
  {
   "cell_type": "markdown",
   "id": "8b2f9ad0-ceed-402b-90ba-613815062c62",
   "metadata": {},
   "source": [
    "<p style=\"text-align:center\">\n",
    "    <a href=\"https://skills.network\" target=\"_blank\">\n",
    "    <img src=\"https://cf-courses-data.s3.us.cloud-object-storage.appdomain.cloud/assets/logos/SN_web_lightmode.png\" width=\"300\" alt=\"Skills Network Logo\">\n",
    "    </a>\n",
    "</p>\n"
   ]
  },
  {
   "cell_type": "markdown",
   "id": "18005a7e-dada-4917-9318-43b4e2bfa4f1",
   "metadata": {},
   "source": [
    "# **Hands-on Practice Lab: Importing Dataset - Laptops Pricing**\n",
    "\n",
    "Estimated time needed: **20** minutes\n",
    "\n",
    "In this lab, you will practice the process of loading and drawing basic insights on a dataset as learnt through the module. You are being provided with a fresh dataset on 'Laptop Pricing' which will be used for all the practice labs throughout the course.\n"
   ]
  },
  {
   "cell_type": "markdown",
   "id": "fa4f0f90-0ce8-423a-8c87-6ba51e543c14",
   "metadata": {},
   "source": [
    "# Objectives\n",
    "\n",
    "After completing this lab you will be able to:\n",
    "\n",
    " - Import a dataset from a CSV file to a Pandas dataframe\n",
    " - Develop some basic insights about the dataset\n"
   ]
  },
  {
   "cell_type": "markdown",
   "id": "e7000a53-cead-4ddd-9c50-c432878213b3",
   "metadata": {},
   "source": [
    "# Setup\n"
   ]
  },
  {
   "cell_type": "markdown",
   "id": "04df515e-7f35-4e51-8303-143f50cc5a1c",
   "metadata": {},
   "source": [
    "For this lab, we will be using the following libraries:\n",
    "\n",
    "* `skillsnetwork` for downloading the daataset\n",
    "\n",
    "*   [`pandas`](https://pandas.pydata.org/?utm_medium=Exinfluencer&utm_source=Exinfluencer&utm_content=000026UJ&utm_term=10006555&utm_id=NA-SkillsNetwork-Channel-SkillsNetworkCoursesIBMML0187ENSkillsNetwork31430127-2021-01-01) for managing the data.\n",
    "*   [`numpy`](https://numpy.org/?utm_medium=Exinfluencer&utm_source=Exinfluencer&utm_content=000026UJ&utm_term=10006555&utm_id=NA-SkillsNetwork-Channel-SkillsNetworkCoursesIBMML0187ENSkillsNetwork31430127-2021-01-01) for mathematical operations.\n"
   ]
  },
  {
   "cell_type": "markdown",
   "id": "8e376c61-2c2e-4eab-a72b-d4c78868c728",
   "metadata": {},
   "source": [
    "### Importing Required Libraries\n"
   ]
  },
  {
   "cell_type": "code",
   "execution_count": 1,
   "id": "6717be74-3284-4d25-82d5-c2541b811b5d",
   "metadata": {},
   "outputs": [],
   "source": [
    "import pandas as pd\n",
    "import numpy as np"
   ]
  },
  {
   "cell_type": "markdown",
   "id": "50a605d5-2714-4134-a2cd-946fd25029b9",
   "metadata": {},
   "source": [
    "The data set to be used is available on the link below.\n"
   ]
  },
  {
   "cell_type": "markdown",
   "id": "5937008d-06ef-442b-a3ab-bf432b8aa7d7",
   "metadata": {},
   "source": [
    "The functions below will download the dataset into your browser:\n"
   ]
  },
  {
   "cell_type": "code",
   "execution_count": 2,
   "id": "5807d959-93ce-4d31-a5dc-b326d9e0d77d",
   "metadata": {},
   "outputs": [
    {
     "ename": "ModuleNotFoundError",
     "evalue": "No module named 'pyodide'",
     "output_type": "error",
     "traceback": [
      "\u001b[1;31m---------------------------------------------------------------------------\u001b[0m",
      "\u001b[1;31mModuleNotFoundError\u001b[0m                       Traceback (most recent call last)",
      "Cell \u001b[1;32mIn[2], line 1\u001b[0m\n\u001b[1;32m----> 1\u001b[0m \u001b[38;5;28;01mfrom\u001b[39;00m \u001b[38;5;21;01mpyodide\u001b[39;00m\u001b[38;5;21;01m.\u001b[39;00m\u001b[38;5;21;01mhttp\u001b[39;00m \u001b[38;5;28;01mimport\u001b[39;00m pyfetch\n\u001b[0;32m      3\u001b[0m \u001b[38;5;28;01masync\u001b[39;00m \u001b[38;5;28;01mdef\u001b[39;00m \u001b[38;5;21mdownload\u001b[39m(url, filename):\n\u001b[0;32m      4\u001b[0m     response \u001b[38;5;241m=\u001b[39m \u001b[38;5;28;01mawait\u001b[39;00m pyfetch(url)\n",
      "\u001b[1;31mModuleNotFoundError\u001b[0m: No module named 'pyodide'"
     ]
    }
   ],
   "source": [
    "from pyodide.http import pyfetch\n",
    "\n",
    "async def download(url, filename):\n",
    "    response = await pyfetch(url)\n",
    "    if response.status == 200:\n",
    "        with open(filename, \"wb\") as f:\n",
    "            f.write(await response.bytes())"
   ]
  },
  {
   "cell_type": "code",
   "execution_count": null,
   "id": "391568d4-0285-4db5-8ce8-29760c15d128",
   "metadata": {},
   "outputs": [],
   "source": [
    "file_path = \"https://cf-courses-data.s3.us.cloud-object-storage.appdomain.cloud/IBMDeveloperSkillsNetwork-DA0101EN-Coursera/laptop_pricing_dataset_base.csv\""
   ]
  },
  {
   "cell_type": "markdown",
   "id": "6b18661e-571d-41c6-9c14-6baa5076e15e",
   "metadata": {},
   "source": [
    "To obtain the dataset, utilize the download() function as defined above:\n"
   ]
  },
  {
   "cell_type": "code",
   "execution_count": null,
   "id": "8c87419c-aeae-4fb2-9262-64613b89a755",
   "metadata": {},
   "outputs": [],
   "source": [
    "await download(file_path, \"laptops.csv\")\n",
    "file_name=\"laptops.csv\""
   ]
  },
  {
   "cell_type": "code",
   "execution_count": 4,
   "id": "c6f111d7-74f9-4a86-8c0b-43b6a431ea98",
   "metadata": {},
   "outputs": [],
   "source": [
    "df = pd.read_csv(\"laptop_pricing_dataset_base.csv\")"
   ]
  },
  {
   "cell_type": "markdown",
   "id": "2e13e011-4e32-41fd-962b-0e13431bc9e1",
   "metadata": {},
   "source": [
    "> Note: This version of the lab is working on JupyterLite, which requires the dataset to be downloaded to the interface. While working on the downloaded version of this notebook on their local machines, the learners can simply **skip the steps above**, and simply use the URL directly in the `pandas.read_csv()` function. You can uncomment and run the statements in the cell below.\n"
   ]
  },
  {
   "cell_type": "code",
   "execution_count": 6,
   "id": "67786cad-ba7d-4104-842c-61e4c772d963",
   "metadata": {},
   "outputs": [],
   "source": [
    "filepath = \"https://cf-courses-data.s3.us.cloud-object-storage.appdomain.cloud/IBMDeveloperSkillsNetwork-DA0101EN-Coursera/laptop_pricing_dataset_base.csv\"\n",
    "df = pd.read_csv(filepath, header=None)"
   ]
  },
  {
   "cell_type": "markdown",
   "id": "be0b74ed-f52f-47bc-9e95-1333c98a9d37",
   "metadata": {},
   "source": [
    "<h1> Task #1: </h1>\n",
    "<h3>Load the dataset to a pandas dataframe named 'df'</h3>\n",
    "Print the first 5 entries of the dataset to confirm loading.\n"
   ]
  },
  {
   "cell_type": "code",
   "execution_count": 7,
   "id": "d1a1a869-668a-4144-a6ad-56f992712d8e",
   "metadata": {},
   "outputs": [
    {
     "data": {
      "text/html": [
       "<div>\n",
       "<style scoped>\n",
       "    .dataframe tbody tr th:only-of-type {\n",
       "        vertical-align: middle;\n",
       "    }\n",
       "\n",
       "    .dataframe tbody tr th {\n",
       "        vertical-align: top;\n",
       "    }\n",
       "\n",
       "    .dataframe thead th {\n",
       "        text-align: right;\n",
       "    }\n",
       "</style>\n",
       "<table border=\"1\" class=\"dataframe\">\n",
       "  <thead>\n",
       "    <tr style=\"text-align: right;\">\n",
       "      <th></th>\n",
       "      <th>0</th>\n",
       "      <th>1</th>\n",
       "      <th>2</th>\n",
       "      <th>3</th>\n",
       "      <th>4</th>\n",
       "      <th>5</th>\n",
       "      <th>6</th>\n",
       "      <th>7</th>\n",
       "      <th>8</th>\n",
       "      <th>9</th>\n",
       "      <th>10</th>\n",
       "      <th>11</th>\n",
       "    </tr>\n",
       "  </thead>\n",
       "  <tbody>\n",
       "    <tr>\n",
       "      <th>0</th>\n",
       "      <td>Acer</td>\n",
       "      <td>4</td>\n",
       "      <td>IPS Panel</td>\n",
       "      <td>2</td>\n",
       "      <td>1</td>\n",
       "      <td>5</td>\n",
       "      <td>35.56</td>\n",
       "      <td>1.6</td>\n",
       "      <td>8</td>\n",
       "      <td>256</td>\n",
       "      <td>1.6</td>\n",
       "      <td>978</td>\n",
       "    </tr>\n",
       "    <tr>\n",
       "      <th>1</th>\n",
       "      <td>Dell</td>\n",
       "      <td>3</td>\n",
       "      <td>Full HD</td>\n",
       "      <td>1</td>\n",
       "      <td>1</td>\n",
       "      <td>3</td>\n",
       "      <td>39.624</td>\n",
       "      <td>2.0</td>\n",
       "      <td>4</td>\n",
       "      <td>256</td>\n",
       "      <td>2.2</td>\n",
       "      <td>634</td>\n",
       "    </tr>\n",
       "    <tr>\n",
       "      <th>2</th>\n",
       "      <td>Dell</td>\n",
       "      <td>3</td>\n",
       "      <td>Full HD</td>\n",
       "      <td>1</td>\n",
       "      <td>1</td>\n",
       "      <td>7</td>\n",
       "      <td>39.624</td>\n",
       "      <td>2.7</td>\n",
       "      <td>8</td>\n",
       "      <td>256</td>\n",
       "      <td>2.2</td>\n",
       "      <td>946</td>\n",
       "    </tr>\n",
       "    <tr>\n",
       "      <th>3</th>\n",
       "      <td>Dell</td>\n",
       "      <td>4</td>\n",
       "      <td>IPS Panel</td>\n",
       "      <td>2</td>\n",
       "      <td>1</td>\n",
       "      <td>5</td>\n",
       "      <td>33.782</td>\n",
       "      <td>1.6</td>\n",
       "      <td>8</td>\n",
       "      <td>128</td>\n",
       "      <td>1.22</td>\n",
       "      <td>1244</td>\n",
       "    </tr>\n",
       "    <tr>\n",
       "      <th>4</th>\n",
       "      <td>HP</td>\n",
       "      <td>4</td>\n",
       "      <td>Full HD</td>\n",
       "      <td>2</td>\n",
       "      <td>1</td>\n",
       "      <td>7</td>\n",
       "      <td>39.624</td>\n",
       "      <td>1.8</td>\n",
       "      <td>8</td>\n",
       "      <td>256</td>\n",
       "      <td>1.91</td>\n",
       "      <td>837</td>\n",
       "    </tr>\n",
       "  </tbody>\n",
       "</table>\n",
       "</div>"
      ],
      "text/plain": [
       "     0   1          2   3   4   5       6    7   8    9     10    11\n",
       "0  Acer   4  IPS Panel   2   1   5   35.56  1.6   8  256   1.6   978\n",
       "1  Dell   3    Full HD   1   1   3  39.624  2.0   4  256   2.2   634\n",
       "2  Dell   3    Full HD   1   1   7  39.624  2.7   8  256   2.2   946\n",
       "3  Dell   4  IPS Panel   2   1   5  33.782  1.6   8  128  1.22  1244\n",
       "4    HP   4    Full HD   2   1   7  39.624  1.8   8  256  1.91   837"
      ]
     },
     "execution_count": 7,
     "metadata": {},
     "output_type": "execute_result"
    }
   ],
   "source": [
    "# Write your code below and press Shift+Enter to execute.\n",
    "df.head()"
   ]
  },
  {
   "cell_type": "markdown",
   "id": "643581e0-43cc-4245-b73f-a2c31a91bd3e",
   "metadata": {},
   "source": [
    "<details><summary>Click here for solution</summary>\n",
    "\n",
    "```python\n",
    "df = pd.read_csv(path, header=None)\n",
    "print(df.head())\n",
    "```\n",
    "</details>\n"
   ]
  },
  {
   "cell_type": "markdown",
   "id": "77f164e7-31b3-42ab-b39a-d93af80d8c4a",
   "metadata": {},
   "source": [
    "<h1> Task #2: </h1>\n",
    "<h3>Add headers to the dataframe</h3>\n",
    "The headers for the dataset, in sequence, are \"Manufacturer\", \"Category\", \"Screen\", \"GPU\", \"OS\", \"CPU_core\",\n",
    "\"Screen_Size_inch\", \"CPU_frequency\", \"RAM_GB\", \"Storage_GB_SSD\", \"Weight_kg\" and \"Price\".\n",
    "\n",
    "Confirm insertion by printing the first 10 rows of the dataset.\n"
   ]
  },
  {
   "cell_type": "code",
   "execution_count": 11,
   "id": "9873fe64-517a-499c-8c3a-3b32aa2c7d27",
   "metadata": {},
   "outputs": [
    {
     "data": {
      "text/html": [
       "<div>\n",
       "<style scoped>\n",
       "    .dataframe tbody tr th:only-of-type {\n",
       "        vertical-align: middle;\n",
       "    }\n",
       "\n",
       "    .dataframe tbody tr th {\n",
       "        vertical-align: top;\n",
       "    }\n",
       "\n",
       "    .dataframe thead th {\n",
       "        text-align: right;\n",
       "    }\n",
       "</style>\n",
       "<table border=\"1\" class=\"dataframe\">\n",
       "  <thead>\n",
       "    <tr style=\"text-align: right;\">\n",
       "      <th></th>\n",
       "      <th>Manufactures</th>\n",
       "      <th>Category</th>\n",
       "      <th>Screen</th>\n",
       "      <th>GPU</th>\n",
       "      <th>OS</th>\n",
       "      <th>CPU_core</th>\n",
       "      <th>Screen_Size_inch</th>\n",
       "      <th>CPU_frequency</th>\n",
       "      <th>RAM_GB</th>\n",
       "      <th>Storage_GB_SSD</th>\n",
       "      <th>Weight_kg</th>\n",
       "      <th>Price</th>\n",
       "    </tr>\n",
       "  </thead>\n",
       "  <tbody>\n",
       "    <tr>\n",
       "      <th>0</th>\n",
       "      <td>Acer</td>\n",
       "      <td>4</td>\n",
       "      <td>IPS Panel</td>\n",
       "      <td>2</td>\n",
       "      <td>1</td>\n",
       "      <td>5</td>\n",
       "      <td>35.56</td>\n",
       "      <td>1.6</td>\n",
       "      <td>8</td>\n",
       "      <td>256</td>\n",
       "      <td>1.6</td>\n",
       "      <td>978</td>\n",
       "    </tr>\n",
       "    <tr>\n",
       "      <th>1</th>\n",
       "      <td>Dell</td>\n",
       "      <td>3</td>\n",
       "      <td>Full HD</td>\n",
       "      <td>1</td>\n",
       "      <td>1</td>\n",
       "      <td>3</td>\n",
       "      <td>39.624</td>\n",
       "      <td>2.0</td>\n",
       "      <td>4</td>\n",
       "      <td>256</td>\n",
       "      <td>2.2</td>\n",
       "      <td>634</td>\n",
       "    </tr>\n",
       "    <tr>\n",
       "      <th>2</th>\n",
       "      <td>Dell</td>\n",
       "      <td>3</td>\n",
       "      <td>Full HD</td>\n",
       "      <td>1</td>\n",
       "      <td>1</td>\n",
       "      <td>7</td>\n",
       "      <td>39.624</td>\n",
       "      <td>2.7</td>\n",
       "      <td>8</td>\n",
       "      <td>256</td>\n",
       "      <td>2.2</td>\n",
       "      <td>946</td>\n",
       "    </tr>\n",
       "    <tr>\n",
       "      <th>3</th>\n",
       "      <td>Dell</td>\n",
       "      <td>4</td>\n",
       "      <td>IPS Panel</td>\n",
       "      <td>2</td>\n",
       "      <td>1</td>\n",
       "      <td>5</td>\n",
       "      <td>33.782</td>\n",
       "      <td>1.6</td>\n",
       "      <td>8</td>\n",
       "      <td>128</td>\n",
       "      <td>1.22</td>\n",
       "      <td>1244</td>\n",
       "    </tr>\n",
       "    <tr>\n",
       "      <th>4</th>\n",
       "      <td>HP</td>\n",
       "      <td>4</td>\n",
       "      <td>Full HD</td>\n",
       "      <td>2</td>\n",
       "      <td>1</td>\n",
       "      <td>7</td>\n",
       "      <td>39.624</td>\n",
       "      <td>1.8</td>\n",
       "      <td>8</td>\n",
       "      <td>256</td>\n",
       "      <td>1.91</td>\n",
       "      <td>837</td>\n",
       "    </tr>\n",
       "    <tr>\n",
       "      <th>5</th>\n",
       "      <td>Dell</td>\n",
       "      <td>3</td>\n",
       "      <td>Full HD</td>\n",
       "      <td>1</td>\n",
       "      <td>1</td>\n",
       "      <td>5</td>\n",
       "      <td>39.624</td>\n",
       "      <td>1.6</td>\n",
       "      <td>8</td>\n",
       "      <td>256</td>\n",
       "      <td>2.2</td>\n",
       "      <td>1016</td>\n",
       "    </tr>\n",
       "    <tr>\n",
       "      <th>6</th>\n",
       "      <td>HP</td>\n",
       "      <td>3</td>\n",
       "      <td>Full HD</td>\n",
       "      <td>3</td>\n",
       "      <td>1</td>\n",
       "      <td>5</td>\n",
       "      <td>39.624</td>\n",
       "      <td>1.6</td>\n",
       "      <td>8</td>\n",
       "      <td>256</td>\n",
       "      <td>2.1</td>\n",
       "      <td>1117</td>\n",
       "    </tr>\n",
       "    <tr>\n",
       "      <th>7</th>\n",
       "      <td>Acer</td>\n",
       "      <td>3</td>\n",
       "      <td>IPS Panel</td>\n",
       "      <td>2</td>\n",
       "      <td>1</td>\n",
       "      <td>5</td>\n",
       "      <td>38.1</td>\n",
       "      <td>1.6</td>\n",
       "      <td>4</td>\n",
       "      <td>256</td>\n",
       "      <td>2.2</td>\n",
       "      <td>866</td>\n",
       "    </tr>\n",
       "    <tr>\n",
       "      <th>8</th>\n",
       "      <td>Dell</td>\n",
       "      <td>3</td>\n",
       "      <td>Full HD</td>\n",
       "      <td>1</td>\n",
       "      <td>1</td>\n",
       "      <td>5</td>\n",
       "      <td>39.624</td>\n",
       "      <td>2.5</td>\n",
       "      <td>4</td>\n",
       "      <td>256</td>\n",
       "      <td>2.3</td>\n",
       "      <td>812</td>\n",
       "    </tr>\n",
       "    <tr>\n",
       "      <th>9</th>\n",
       "      <td>Acer</td>\n",
       "      <td>3</td>\n",
       "      <td>IPS Panel</td>\n",
       "      <td>3</td>\n",
       "      <td>1</td>\n",
       "      <td>7</td>\n",
       "      <td>38.1</td>\n",
       "      <td>1.8</td>\n",
       "      <td>8</td>\n",
       "      <td>256</td>\n",
       "      <td>2.2</td>\n",
       "      <td>1068</td>\n",
       "    </tr>\n",
       "  </tbody>\n",
       "</table>\n",
       "</div>"
      ],
      "text/plain": [
       "  Manufactures  Category     Screen  GPU  OS  CPU_core Screen_Size_inch  \\\n",
       "0         Acer         4  IPS Panel    2   1         5            35.56   \n",
       "1         Dell         3    Full HD    1   1         3           39.624   \n",
       "2         Dell         3    Full HD    1   1         7           39.624   \n",
       "3         Dell         4  IPS Panel    2   1         5           33.782   \n",
       "4           HP         4    Full HD    2   1         7           39.624   \n",
       "5         Dell         3    Full HD    1   1         5           39.624   \n",
       "6           HP         3    Full HD    3   1         5           39.624   \n",
       "7         Acer         3  IPS Panel    2   1         5             38.1   \n",
       "8         Dell         3    Full HD    1   1         5           39.624   \n",
       "9         Acer         3  IPS Panel    3   1         7             38.1   \n",
       "\n",
       "   CPU_frequency  RAM_GB  Storage_GB_SSD Weight_kg  Price  \n",
       "0            1.6       8             256       1.6    978  \n",
       "1            2.0       4             256       2.2    634  \n",
       "2            2.7       8             256       2.2    946  \n",
       "3            1.6       8             128      1.22   1244  \n",
       "4            1.8       8             256      1.91    837  \n",
       "5            1.6       8             256       2.2   1016  \n",
       "6            1.6       8             256       2.1   1117  \n",
       "7            1.6       4             256       2.2    866  \n",
       "8            2.5       4             256       2.3    812  \n",
       "9            1.8       8             256       2.2   1068  "
      ]
     },
     "execution_count": 11,
     "metadata": {},
     "output_type": "execute_result"
    }
   ],
   "source": [
    "# Write your code below and press Shift+Enter to execute.\n",
    "headers=[\"Manufactures\",\"Category\",\"Screen\",\"GPU\",\"OS\",\"CPU_core\",\"Screen_Size_inch\",\"CPU_frequency\",\"RAM_GB\"\n",
    "               ,\"Storage_GB_SSD\",\"Weight_kg\",\"Price\"]\n",
    "df.columns=headers\n",
    "df.head(10)"
   ]
  },
  {
   "cell_type": "markdown",
   "id": "6f9ea227-2933-4cdb-a5bd-970f01bb4dcd",
   "metadata": {},
   "source": [
    "<details><summary>Click here for solution</summary>\n",
    "\n",
    "```python\n",
    "# create headers list\n",
    "headers = [\"Manufacturer\", \"Category\", \"Screen\", \"GPU\", \"OS\", \"CPU_core\", \"Screen_Size_inch\", \"CPU_frequency\", \"RAM_GB\", \"Storage_GB_SSD\", \"Weight_kg\", \"Price\"]\n",
    "df.columns = headers\n",
    "print(df.head(10))\n",
    "```\n",
    "</details>\n"
   ]
  },
  {
   "cell_type": "markdown",
   "id": "25115985-9420-40cd-9df3-b50907036fff",
   "metadata": {},
   "source": [
    "<h1> Task #3: </h1>\n",
    "<h3>Replace '?' with 'NaN'</h3>\n",
    "Replace the '?' entries in the dataset with NaN value, recevied from the Numpy package.\n"
   ]
  },
  {
   "cell_type": "code",
   "execution_count": 12,
   "id": "0e6ce525-7fc3-467d-ba78-3e456d427a8e",
   "metadata": {},
   "outputs": [],
   "source": [
    "# Write your code below and press Shift+Enter to execute.\n",
    "df.replace(\"?\",np.nan,inplace=True)"
   ]
  },
  {
   "cell_type": "markdown",
   "id": "da733971-3ccc-4848-b910-e85cc6c26cf1",
   "metadata": {},
   "source": [
    "<details><summary>Click here for solution</summary>\n",
    "\n",
    "```python\n",
    "df.replace('?',np.nan, inplace = True)\n",
    "```\n",
    "</details>\n"
   ]
  },
  {
   "cell_type": "markdown",
   "id": "103c29b5-1818-4e9a-8d8f-47952055a54a",
   "metadata": {},
   "source": [
    "<h1> Task #4: </h1>\n",
    "<h3>Print the data types of the dataframe columns</h3>\n",
    "Make a note of the data types of the different columns of the dataset.\n"
   ]
  },
  {
   "cell_type": "code",
   "execution_count": 15,
   "id": "de06321d-5427-4211-99e0-fd49113198b8",
   "metadata": {},
   "outputs": [
    {
     "data": {
      "text/plain": [
       "Manufactures         object\n",
       "Category              int64\n",
       "Screen               object\n",
       "GPU                   int64\n",
       "OS                    int64\n",
       "CPU_core              int64\n",
       "Screen_Size_inch     object\n",
       "CPU_frequency       float64\n",
       "RAM_GB                int64\n",
       "Storage_GB_SSD        int64\n",
       "Weight_kg            object\n",
       "Price                 int64\n",
       "dtype: object"
      ]
     },
     "execution_count": 15,
     "metadata": {},
     "output_type": "execute_result"
    }
   ],
   "source": [
    "# Write your code below and press Shift+Enter to execute.\n",
    "df.dtypes"
   ]
  },
  {
   "cell_type": "markdown",
   "id": "1402e31a-f9bb-4f74-8f8d-99a529cb36f2",
   "metadata": {},
   "source": [
    "<details><summary>Click here for solution</summary>\n",
    "\n",
    "```python\n",
    "print(df.dtypes)\n",
    "```\n",
    "</details>\n"
   ]
  },
  {
   "cell_type": "markdown",
   "id": "4bbdfc24-48d2-4fcf-aa14-461268ae9999",
   "metadata": {},
   "source": [
    "<h1> Task #5: </h1>\n",
    "<h3>Print the statistical description of the dataset, including that of 'object' data types.</h3>\n"
   ]
  },
  {
   "cell_type": "code",
   "execution_count": 16,
   "id": "073fbff8-296f-4838-922b-780c899bd254",
   "metadata": {},
   "outputs": [
    {
     "name": "stdout",
     "output_type": "stream",
     "text": [
      "       Manufactures    Category   Screen         GPU          OS    CPU_core  \\\n",
      "count           238  238.000000      238  238.000000  238.000000  238.000000   \n",
      "unique           11         NaN        2         NaN         NaN         NaN   \n",
      "top            Dell         NaN  Full HD         NaN         NaN         NaN   \n",
      "freq             71         NaN      161         NaN         NaN         NaN   \n",
      "mean            NaN    3.205882      NaN    2.151261    1.058824    5.630252   \n",
      "std             NaN    0.776533      NaN    0.638282    0.235790    1.241787   \n",
      "min             NaN    1.000000      NaN    1.000000    1.000000    3.000000   \n",
      "25%             NaN    3.000000      NaN    2.000000    1.000000    5.000000   \n",
      "50%             NaN    3.000000      NaN    2.000000    1.000000    5.000000   \n",
      "75%             NaN    4.000000      NaN    3.000000    1.000000    7.000000   \n",
      "max             NaN    5.000000      NaN    3.000000    2.000000    7.000000   \n",
      "\n",
      "       Screen_Size_inch  CPU_frequency      RAM_GB  Storage_GB_SSD Weight_kg  \\\n",
      "count               234     238.000000  238.000000      238.000000       233   \n",
      "unique                9            NaN         NaN             NaN        77   \n",
      "top              39.624            NaN         NaN             NaN       2.2   \n",
      "freq                 89            NaN         NaN             NaN        21   \n",
      "mean                NaN       2.360084    7.882353      245.781513       NaN   \n",
      "std                 NaN       0.411393    2.482603       34.765316       NaN   \n",
      "min                 NaN       1.200000    4.000000      128.000000       NaN   \n",
      "25%                 NaN       2.000000    8.000000      256.000000       NaN   \n",
      "50%                 NaN       2.500000    8.000000      256.000000       NaN   \n",
      "75%                 NaN       2.700000    8.000000      256.000000       NaN   \n",
      "max                 NaN       2.900000   16.000000      256.000000       NaN   \n",
      "\n",
      "              Price  \n",
      "count    238.000000  \n",
      "unique          NaN  \n",
      "top             NaN  \n",
      "freq            NaN  \n",
      "mean    1462.344538  \n",
      "std      574.607699  \n",
      "min      527.000000  \n",
      "25%     1066.500000  \n",
      "50%     1333.000000  \n",
      "75%     1777.000000  \n",
      "max     3810.000000  \n"
     ]
    }
   ],
   "source": [
    "# Write your code below and press Shift+Enter to execute.\n",
    "print(df.describe(include=\"all\"))"
   ]
  },
  {
   "cell_type": "markdown",
   "id": "1455c348-4a75-4eef-902e-2c3960cfaa47",
   "metadata": {},
   "source": [
    "<details><summary>Click here for solution</summary>\n",
    "\n",
    "```python\n",
    "print(df.describe(include='all'))\n",
    "```\n",
    "</details>\n"
   ]
  },
  {
   "cell_type": "markdown",
   "id": "daba3fcb-6974-4dd7-ae2a-34779dfa7979",
   "metadata": {},
   "source": [
    "<h1> Task #6: </h1>\n",
    "<h3>Print the summary information of the dataset.</h3>\n"
   ]
  },
  {
   "cell_type": "code",
   "execution_count": 17,
   "id": "a83e544c-afe6-4465-9b0c-307f6339b78a",
   "metadata": {},
   "outputs": [
    {
     "name": "stdout",
     "output_type": "stream",
     "text": [
      "<class 'pandas.core.frame.DataFrame'>\n",
      "RangeIndex: 238 entries, 0 to 237\n",
      "Data columns (total 12 columns):\n",
      " #   Column            Non-Null Count  Dtype  \n",
      "---  ------            --------------  -----  \n",
      " 0   Manufactures      238 non-null    object \n",
      " 1   Category          238 non-null    int64  \n",
      " 2   Screen            238 non-null    object \n",
      " 3   GPU               238 non-null    int64  \n",
      " 4   OS                238 non-null    int64  \n",
      " 5   CPU_core          238 non-null    int64  \n",
      " 6   Screen_Size_inch  234 non-null    object \n",
      " 7   CPU_frequency     238 non-null    float64\n",
      " 8   RAM_GB            238 non-null    int64  \n",
      " 9   Storage_GB_SSD    238 non-null    int64  \n",
      " 10  Weight_kg         233 non-null    object \n",
      " 11  Price             238 non-null    int64  \n",
      "dtypes: float64(1), int64(7), object(4)\n",
      "memory usage: 22.4+ KB\n"
     ]
    }
   ],
   "source": [
    "# Write your code below and press Shift+Enter to execute.\n",
    "df.info()"
   ]
  },
  {
   "cell_type": "markdown",
   "id": "c29e3373-2288-45d5-ac7e-8a18a85af25d",
   "metadata": {},
   "source": [
    "<details><summary>Click here for solution</summary>\n",
    "\n",
    "```python\n",
    "print(df.info())\n",
    "```\n",
    "</details>\n"
   ]
  },
  {
   "cell_type": "markdown",
   "id": "5723e76f-0e92-433b-93ac-4f39d78efde1",
   "metadata": {},
   "source": [
    "---\n"
   ]
  },
  {
   "cell_type": "markdown",
   "id": "5b7fabb2-ae61-405f-96fd-08ba82f76602",
   "metadata": {},
   "source": [
    "# Congratulations! You have completed the lab\n"
   ]
  },
  {
   "cell_type": "markdown",
   "id": "871691de-0f8b-4a82-86d8-79b10c1036fa",
   "metadata": {},
   "source": [
    "## Authors\n"
   ]
  },
  {
   "cell_type": "markdown",
   "id": "a20aa2a8-fdf9-48b4-b743-a94d48f69b03",
   "metadata": {},
   "source": [
    "[Abhishek Gagneja](https://www.coursera.org/instructor/~129186572)\n",
    "\n",
    "[Vicky Kuo](https://author.skills.network/instructors/vicky_kuo)\n"
   ]
  },
  {
   "cell_type": "markdown",
   "id": "5cdbb324-ec68-4d2e-98ab-28091a2778b1",
   "metadata": {},
   "source": [
    "## Change Log\n"
   ]
  },
  {
   "cell_type": "markdown",
   "id": "d8e75518-0777-4455-8fd3-9f39b5cbbb07",
   "metadata": {},
   "source": [
    "|Date (YYYY-MM-DD)|Version|Changed By|Change Description|\n",
    "|-|-|-|-|\n",
    "|2023-09-15|0.1|Abhishek Gagneja|Initial Version Created|\n",
    "|2023-09-18|0.2|Vicky Kuo|Reviewed and Revised|\n"
   ]
  },
  {
   "cell_type": "markdown",
   "id": "eb5cfcb3-9666-45d4-8ec0-819638da1e46",
   "metadata": {},
   "source": [
    "Copyright © 2023 IBM Corporation. All rights reserved.\n"
   ]
  }
 ],
 "metadata": {
  "kernelspec": {
   "display_name": "Python 3 (ipykernel)",
   "language": "python",
   "name": "python3"
  },
  "language_info": {
   "codemirror_mode": {
    "name": "ipython",
    "version": 3
   },
   "file_extension": ".py",
   "mimetype": "text/x-python",
   "name": "python",
   "nbconvert_exporter": "python",
   "pygments_lexer": "ipython3",
   "version": "3.11.5"
  }
 },
 "nbformat": 4,
 "nbformat_minor": 4
}
